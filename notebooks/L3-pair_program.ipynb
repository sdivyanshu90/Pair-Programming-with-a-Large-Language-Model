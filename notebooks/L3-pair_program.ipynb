{
 "cells": [
  {
   "cell_type": "markdown",
   "id": "9ee333b4-4b2e-4e45-8833-3a6e4782b46c",
   "metadata": {},
   "source": [
    "# Pair Programming Scenarios\n"
   ]
  },
  {
   "cell_type": "markdown",
   "id": "279e9386-c8cd-4825-afcc-43e3191cad69",
   "metadata": {},
   "source": [
    "#### Setup\n",
    "Set the ~~MakerSuite~~ Gemini API key with the provided helper function."
   ]
  },
  {
   "cell_type": "code",
   "execution_count": 1,
   "id": "39fa172d-0b5d-4fd1-9051-3d6f2e31730f",
   "metadata": {
    "height": 302
   },
   "outputs": [],
   "source": [
    "from utils import get_api_key\n",
    "# PaLM legacy\n",
    "## import google.generativeai as palm\n",
    "## palm.configure(api_key=get_api_key())\n",
    "\n",
    "# Gemini API\n",
    "import os\n",
    "import google.generativeai as genai\n",
    "from google.api_core import client_options as client_options_lib\n",
    "\n",
    "genai.configure(\n",
    "    api_key=get_api_key(),\n",
    "    transport=\"rest\",\n",
    "    client_options=client_options_lib.ClientOptions(\n",
    "        api_endpoint=os.getenv(\"GOOGLE_API_BASE\"),\n",
    "    )\n",
    ")"
   ]
  },
  {
   "cell_type": "markdown",
   "id": "18775c71-13f5-49ff-ac4a-d34cb33afb0a",
   "metadata": {},
   "source": [
    "#### Pick the model that generates text"
   ]
  },
  {
   "cell_type": "markdown",
   "id": "bec4b13a",
   "metadata": {},
   "source": [
    "```Python\n",
    "# Legacy models shown in the video\n",
    "models = [m for m in genai.list_models() if 'generateText' in m.supported_generation_methods]\n",
    "model_bison = models[0]\n",
    "# Model Bison set as legacy model in 2024\n",
    "model_bison\n",
    "```"
   ]
  },
  {
   "cell_type": "code",
   "execution_count": 2,
   "id": "2194d2d2",
   "metadata": {
    "height": 47
   },
   "outputs": [],
   "source": [
    "# Set the model to connect to the Gemini API\n",
    "model_flash = genai.GenerativeModel(model_name='gemini-2.0-flash')"
   ]
  },
  {
   "cell_type": "markdown",
   "id": "8b6efbc6-7f98-4760-9ac0-3b513ef47d6a",
   "metadata": {},
   "source": [
    "### Legacy PaLM API\n",
    "#### Helper function to call the PaLM API\n",
    "\n",
    "```Python\n",
    "from google.api_core import retry\n",
    "@retry.Retry()\n",
    "def generate_text(prompt, \n",
    "                  model=model_bison, \n",
    "                  temperature=0.0):\n",
    "    return palm.generate_text(prompt=prompt,\n",
    "                              model=model,\n",
    "                              temperature=temperature)\n",
    "```"
   ]
  },
  {
   "cell_type": "markdown",
   "id": "c5bba3e1",
   "metadata": {},
   "source": [
    "### Helper function to call the Gemini API"
   ]
  },
  {
   "cell_type": "code",
   "execution_count": 3,
   "id": "008d0c81-4a13-42e2-b0e3-5fe65c56fc18",
   "metadata": {
    "height": 98
   },
   "outputs": [],
   "source": [
    "def generate_text(prompt,\n",
    "                  model=model_flash,\n",
    "                  temperature=0.0):\n",
    "    return model_flash.generate_content(prompt,\n",
    "                                  generation_config={'temperature':temperature})"
   ]
  },
  {
   "cell_type": "markdown",
   "id": "00d25195-6e75-4617-a70c-f5486f9300bb",
   "metadata": {},
   "source": [
    "### Scenario 1: Improve existing code\n",
    "- An LLM can help you rewrite your code in the way that's recommended for that particular language.\n",
    "- You can ask an LLM to rewrite your Python code in a way that is more 'Pythonic\"."
   ]
  },
  {
   "cell_type": "code",
   "execution_count": 4,
   "id": "7d76836a-7e57-4858-8ae5-0e2b6f6ae682",
   "metadata": {
    "height": 132
   },
   "outputs": [],
   "source": [
    "prompt_template = \"\"\"\n",
    "I don't think this code is the best way to do it in Python, can you help me?\n",
    "\n",
    "{question}\n",
    "\n",
    "Please explain, in detail, what you did to improve it.\n",
    "\"\"\""
   ]
  },
  {
   "cell_type": "code",
   "execution_count": 5,
   "id": "b98d292a-4c66-4fe0-94f9-09de640f075e",
   "metadata": {
    "height": 98
   },
   "outputs": [],
   "source": [
    "question = \"\"\"\n",
    "def func_x(array)\n",
    "  for i in range(len(array)):\n",
    "    print(array[i])\n",
    "\"\"\""
   ]
  },
  {
   "cell_type": "code",
   "execution_count": 6,
   "id": "c4944ff9-93c2-4a61-9ac0-54bff53d6ad4",
   "metadata": {
    "height": 149
   },
   "outputs": [
    {
     "name": "stdout",
     "output_type": "stream",
     "text": [
      "Okay, let's analyze the provided Python code and explore better, more Pythonic ways to achieve the same result.\n",
      "\n",
      "**Original Code:**\n",
      "\n",
      "```python\n",
      "def func_x(array):\n",
      "  for i in range(len(array)):\n",
      "    print(array[i])\n",
      "```\n",
      "\n",
      "**Explanation of the Original Code:**\n",
      "\n",
      "*   **`def func_x(array):`**: This defines a function named `func_x` that takes one argument, `array`.  We assume `array` is intended to be a list or other iterable.\n",
      "*   **`for i in range(len(array)):`**: This is the core of the loop.\n",
      "    *   `len(array)`:  Calculates the number of elements in the `array`.\n",
      "    *   `range(len(array))`: Creates a sequence of numbers from 0 up to (but not including) the length of the array.  For example, if `array` has 5 elements, `range(len(array))` will produce the sequence `0, 1, 2, 3, 4`.\n",
      "    *   `for i in ...`: The loop iterates through each number in the sequence generated by `range()`.  The variable `i` takes on each of these values in turn.\n",
      "*   **`print(array[i])`**: Inside the loop, this line accesses the element at index `i` of the `array` and prints it to the console.\n",
      "\n",
      "**Why the Original Code Isn't Ideal (Not Pythonic):**\n",
      "\n",
      "The primary reason this code isn't considered \"Pythonic\" is that it uses explicit indexing (using `i` to access elements).  Python provides a more direct and readable way to iterate through the *elements* of a sequence directly, without needing to manage indices.\n",
      "\n",
      "**Improved Code (Pythonic Approach):**\n",
      "\n",
      "```python\n",
      "def func_x(array):\n",
      "  for element in array:\n",
      "    print(element)\n",
      "```\n",
      "\n",
      "**Explanation of the Improved Code:**\n",
      "\n",
      "*   **`def func_x(array):`**:  Same as before, defines the function.\n",
      "*   **`for element in array:`**: This is the key improvement.\n",
      "    *   Instead of iterating through indices, this loop directly iterates through the *elements* of the `array`.\n",
      "    *   In each iteration, the variable `element` takes on the value of the next element in the `array`.\n",
      "*   **`print(element)`**:  This line simply prints the current `element` to the console.\n",
      "\n",
      "**Why the Improved Code is Better (More Pythonic):**\n",
      "\n",
      "1.  **Readability:** The improved code is much easier to read and understand.  It directly expresses the intent: \"For each element in the array, print the element.\"  The original code requires you to mentally translate the index `i` into the corresponding element.\n",
      "\n",
      "2.  **Simplicity:** It's shorter and more concise.  There's no need to calculate the length of the array or use `range()`.\n",
      "\n",
      "3.  **Less Error-Prone:**  By avoiding explicit indexing, you eliminate the possibility of making off-by-one errors (e.g., accidentally trying to access `array[len(array)]`, which would cause an `IndexError`).\n",
      "\n",
      "4.  **More General:** The improved code works with any iterable, not just lists.  It will work with tuples, sets, strings, and other data structures that support iteration.  The original code is specifically tied to data structures that support indexing.\n",
      "\n",
      "**Example Usage:**\n",
      "\n",
      "```python\n",
      "my_list = [1, 2, 3, 4, 5]\n",
      "func_x(my_list)  # Output: 1 2 3 4 5 (each on a new line)\n",
      "\n",
      "my_tuple = (\"a\", \"b\", \"c\")\n",
      "func_x(my_tuple)  # Output: a b c (each on a new line)\n",
      "\n",
      "my_string = \"hello\"\n",
      "func_x(my_string) # Output: h e l l o (each on a new line)\n",
      "```\n",
      "\n",
      "**In summary:** The improved code is more Pythonic because it leverages Python's built-in iteration capabilities to provide a more readable, simpler, and less error-prone way to iterate through the elements of a sequence.  It's generally considered best practice to avoid explicit indexing when you can directly iterate over the elements themselves.\n",
      "\n"
     ]
    }
   ],
   "source": [
    "completion = generate_text(\n",
    "    prompt = prompt_template.format(question=question)\n",
    ")\n",
    "# Gemini API\n",
    "print(completion.text)\n",
    "\n",
    "# PaLM legacy\n",
    "## print(completion.result)"
   ]
  },
  {
   "cell_type": "markdown",
   "id": "b702c38c-a6ea-4eb2-978b-caf67e79c869",
   "metadata": {},
   "source": [
    "#### Ask for multiple ways of rewriting your code"
   ]
  },
  {
   "cell_type": "code",
   "execution_count": 7,
   "id": "2f3cfe0b-2ec5-452a-bee6-ceb14cbd3f0a",
   "metadata": {
    "height": 132
   },
   "outputs": [],
   "source": [
    "prompt_template = \"\"\"\n",
    "I don't think this code is the best way to do it in Python, can you help me?\n",
    "\n",
    "{question}\n",
    "\n",
    "Please explore multiple ways of solving the problem, and explain each.\n",
    "\"\"\""
   ]
  },
  {
   "cell_type": "code",
   "execution_count": 8,
   "id": "564b598a-ff33-48f0-b58a-e1a355897a56",
   "metadata": {
    "height": 81
   },
   "outputs": [
    {
     "name": "stdout",
     "output_type": "stream",
     "text": [
      "Okay, let's explore better ways to iterate through and print elements of an array (or more generally, an iterable) in Python.  The original code works, but it's not the most Pythonic or efficient in many cases.\n",
      "\n",
      "**Original Code (and why it's not ideal):**\n",
      "\n",
      "```python\n",
      "def func_x(array):\n",
      "  for i in range(len(array)):\n",
      "    print(array[i])\n",
      "```\n",
      "\n",
      "*   **Not Pythonic:**  Python favors direct iteration over elements rather than using indices.  It's generally more readable and less prone to off-by-one errors.\n",
      "*   **Potentially Less Efficient:**  `len(array)` is called in each iteration. While usually fast, it's unnecessary.  Accessing elements by index (`array[i]`) can be slightly slower than direct iteration, especially for some data structures (like linked lists, though Python lists are arrays).\n",
      "\n",
      "**Better Alternatives:**\n",
      "\n",
      "1.  **Direct Iteration (The Most Pythonic Way):**\n",
      "\n",
      "    ```python\n",
      "    def func_x(array):\n",
      "      for element in array:\n",
      "        print(element)\n",
      "    ```\n",
      "\n",
      "    *   **Explanation:** This is the preferred way to iterate through a sequence in Python.  The `for` loop directly iterates over each `element` in the `array`.  It's cleaner, more readable, and generally more efficient.  You don't need to worry about indices at all.\n",
      "\n",
      "2.  **Using `enumerate` (If You Need the Index):**\n",
      "\n",
      "    ```python\n",
      "    def func_x(array):\n",
      "      for index, element in enumerate(array):\n",
      "        print(f\"Index: {index}, Element: {element}\")  # Or whatever you need to do with the index\n",
      "    ```\n",
      "\n",
      "    *   **Explanation:**  `enumerate()` is a built-in function that adds a counter to an iterable and returns it as an enumerate object.  When you iterate over the enumerate object, you get pairs of `(index, element)`.  This is useful when you *specifically* need the index of each element during iteration.  The `f-string` is used for formatted output.\n",
      "\n",
      "3.  **List Comprehension (For Concise Printing, but less readable for simple printing):**\n",
      "\n",
      "    ```python\n",
      "    def func_x(array):\n",
      "      [print(element) for element in array]\n",
      "    ```\n",
      "\n",
      "    *   **Explanation:** List comprehensions are a concise way to create lists.  In this case, we're using it for its side effect (printing).  While it works, it's generally considered less readable than a simple `for` loop when the primary goal is just printing.  List comprehensions are best used when you're creating a *new* list based on the original.\n",
      "\n",
      "4.  **Using `map` (Less Common for Simple Printing):**\n",
      "\n",
      "    ```python\n",
      "    def func_x(array):\n",
      "      list(map(print, array))\n",
      "    ```\n",
      "\n",
      "    *   **Explanation:** `map()` applies a function to each item in an iterable.  Here, we're applying the `print` function to each element in the `array`.  We need to wrap it in `list()` (or another iterable constructor like `tuple()`) to force the `map` object to be evaluated (otherwise, it's a lazy iterator).  This is generally *not* the preferred way to print elements.  It's more useful when you want to apply a transformation to each element and create a new iterable.\n",
      "\n",
      "5.  **Using `join` for strings (Specific to printing a list of strings):**\n",
      "\n",
      "    ```python\n",
      "    def func_x(array):\n",
      "      print(\"\\n\".join(array))\n",
      "    ```\n",
      "\n",
      "    *   **Explanation:** This is a very efficient and readable way to print a list of strings, with each string on a new line.  `\"\\n\".join(array)` concatenates all the strings in the `array` with a newline character (`\\n`) between them, and then `print()` outputs the resulting string.  This is much faster than iterating and printing each string individually.  **Important:** This only works if the `array` contains strings.  If it contains other data types, you'll need to convert them to strings first (e.g., using `map(str, array)`).\n",
      "\n",
      "**Which Method to Choose:**\n",
      "\n",
      "*   **For simple printing of any iterable:**  Use direct iteration (`for element in array:`).  It's the most readable and efficient in most cases.\n",
      "*   **If you need the index:** Use `enumerate()`.\n",
      "*   **If you're creating a new list based on the original:** Use a list comprehension.\n",
      "*   **If you're applying a function to each element and creating a new iterable:** Use `map()`.\n",
      "*   **If you're printing a list of strings with each string on a new line:** Use `\"\\n\".join(array)`.\n",
      "\n",
      "**Example demonstrating the best approach:**\n",
      "\n",
      "```python\n",
      "def func_x(array):\n",
      "  for element in array:\n",
      "    print(element)\n",
      "\n",
      "my_list = [1, \"hello\", 3.14, True]\n",
      "func_x(my_list)\n",
      "```\n",
      "\n",
      "This will output:\n",
      "\n",
      "```\n",
      "1\n",
      "hello\n",
      "3.14\n",
      "True\n",
      "```\n",
      "\n",
      "This is the cleanest, most Pythonic, and generally most efficient way to achieve the desired result.  Choose the method that best suits your specific needs and prioritizes readability and clarity.\n",
      "\n"
     ]
    }
   ],
   "source": [
    "completion = generate_text(\n",
    "    prompt = prompt_template.format(question=question)\n",
    ")\n",
    "print(completion.text)"
   ]
  },
  {
   "cell_type": "markdown",
   "id": "6eee86fb-5c10-4e49-a830-7fbe56de241a",
   "metadata": {},
   "source": [
    "#### Paste markdown into a markdown cell\n",
    "\n",
    "If the model outputs what looks like a table in markdown, you can copy-paste markdown into a markdown cell to make it easier to view:\n",
    "\n",
    "For example:\n",
    "\n",
    "| Method | Pros | Cons |\n",
    "|---|---|---|\n",
    "| List comprehension | Concise | Can be difficult to read for complex code |\n",
    "| `enumerate()` | Easy to read | Requires an extra variable to store the index |\n",
    "| `map()` | Flexible | Requires a custom function to format the output |\n"
   ]
  },
  {
   "cell_type": "markdown",
   "id": "df910404-db59-4b9e-9477-408ccec9b7fc",
   "metadata": {},
   "source": [
    "#### Ask the model to recommend one of the methods as most 'Pythonic'"
   ]
  },
  {
   "cell_type": "code",
   "execution_count": 9,
   "id": "b776a8cb-80c4-4e20-89dc-7bff2a350b9a",
   "metadata": {
    "height": 149
   },
   "outputs": [],
   "source": [
    "prompt_template = \"\"\"\n",
    "I don't think this code is the best way to do it in Python, can you help me?\n",
    "\n",
    "{question}\n",
    "\n",
    "Please explore multiple ways of solving the problem, \n",
    "and tell me which is the most Pythonic\n",
    "\"\"\""
   ]
  },
  {
   "cell_type": "code",
   "execution_count": 10,
   "id": "89521d8c-41c8-45fd-9ec3-5eea54c642a4",
   "metadata": {
    "height": 81
   },
   "outputs": [
    {
     "name": "stdout",
     "output_type": "stream",
     "text": [
      "Okay, I can definitely help you explore better ways to iterate through and print elements of an array (or, more accurately in Python, a list) in Python.\n",
      "\n",
      "**The Original Code (and its Issues)**\n",
      "\n",
      "```python\n",
      "def func_x(array):\n",
      "  for i in range(len(array)):\n",
      "    print(array[i])\n",
      "```\n",
      "\n",
      "While this code *works*, it's not considered the most Pythonic way to iterate through a list.  The main issue is that you're using an index (`i`) to access the elements.  Python's `for` loop is designed to directly iterate over the *elements* themselves, which is cleaner and more readable.\n",
      "\n",
      "**More Pythonic Alternatives**\n",
      "\n",
      "Here are several alternative ways to achieve the same result, along with explanations and why they are considered more Pythonic:\n",
      "\n",
      "1. **Direct Iteration (Most Pythonic)**\n",
      "\n",
      "   ```python\n",
      "   def func_x(array):\n",
      "       for element in array:\n",
      "           print(element)\n",
      "   ```\n",
      "\n",
      "   * **Explanation:** This is the most common and preferred way to iterate through a list in Python.  The `for element in array:` loop directly assigns each element of the `array` to the variable `element` in each iteration.\n",
      "   * **Why it's Pythonic:**\n",
      "     * **Readability:** It's very clear what the code is doing: \"For each element in the array, do something.\"\n",
      "     * **Simplicity:**  Avoids unnecessary index manipulation.\n",
      "     * **Efficiency:**  Often slightly more efficient than using indices.\n",
      "\n",
      "2. **Using `enumerate` (If you need the index)**\n",
      "\n",
      "   ```python\n",
      "   def func_x(array):\n",
      "       for index, element in enumerate(array):\n",
      "           print(f\"Index: {index}, Element: {element}\")  # Or just print(element) if you don't need the index\n",
      "   ```\n",
      "\n",
      "   * **Explanation:**  `enumerate()` is a built-in function that adds a counter to an iterable (like a list) and returns it as an enumerate object.  You can then unpack the index and the element in the `for` loop.\n",
      "   * **Why it's Pythonic (when needed):**\n",
      "     * **Clarity:**  If you *need* the index for some reason (e.g., to modify the list at a specific position, or to print the index along with the element), `enumerate` is the cleanest way to get it.\n",
      "     * **Avoids Manual Indexing:**  Still avoids the `range(len(array))` pattern, which is generally less readable.\n",
      "\n",
      "3. **List Comprehension (For concise printing, but less readable for simple printing)**\n",
      "\n",
      "   ```python\n",
      "   def func_x(array):\n",
      "       [print(element) for element in array]\n",
      "   ```\n",
      "\n",
      "   * **Explanation:** List comprehensions are a concise way to create new lists.  In this case, we're using it to iterate through the `array` and print each element.  However, using a list comprehension *solely* for its side effect (printing) is generally discouraged.\n",
      "   * **Why it's *less* Pythonic for this specific task:**\n",
      "     * **Misuse of List Comprehension:** List comprehensions are primarily for creating new lists.  Using them just for side effects (like printing) can be less readable and less efficient than a simple `for` loop.  The list comprehension creates a list of `None` values (because `print` returns `None`), which is then discarded.\n",
      "     * **Readability:**  A simple `for` loop is usually clearer for basic iteration and printing.\n",
      "\n",
      "4. **Using `map` (Generally not recommended for printing)**\n",
      "\n",
      "   ```python\n",
      "   def func_x(array):\n",
      "       list(map(print, array))\n",
      "   ```\n",
      "\n",
      "   * **Explanation:** The `map` function applies a function (in this case, `print`) to each item in an iterable (the `array`).  We then convert the result to a list (although we don't actually use the list).\n",
      "   * **Why it's *not* Pythonic for this task:**\n",
      "     * **Overly Complex:**  It's a more complex way to achieve a simple task.\n",
      "     * **Side Effects:**  Like the list comprehension, it relies on the side effect of `print` rather than its return value.\n",
      "     * **Readability:**  Less readable than a simple `for` loop.\n",
      "\n",
      "**Which is the Most Pythonic?**\n",
      "\n",
      "For the specific task of simply printing each element of a list, the **direct iteration** method is the most Pythonic:\n",
      "\n",
      "```python\n",
      "def func_x(array):\n",
      "    for element in array:\n",
      "        print(element)\n",
      "```\n",
      "\n",
      "It's the most readable, simplest, and most efficient way to achieve the desired outcome.  Use `enumerate` only if you genuinely need the index of each element. Avoid list comprehensions and `map` when your primary goal is just to iterate and print.\n",
      "\n"
     ]
    }
   ],
   "source": [
    "completion = generate_text(\n",
    "    prompt = prompt_template.format(question=question)\n",
    ")\n",
    "print(completion.text)"
   ]
  },
  {
   "cell_type": "markdown",
   "id": "47315eff-85d3-45aa-bf14-a6f8ee1a43b9",
   "metadata": {},
   "source": [
    "### Scenario 2: Simplify code\n",
    "- Ask the LLM to perform a code review.\n",
    "- Note that adding/removing newline characters may affect the LLM completion that gets output by the LLM."
   ]
  },
  {
   "cell_type": "code",
   "execution_count": 11,
   "id": "ef1b24b6-c20c-4e3b-9f80-1a6dea18fa24",
   "metadata": {
    "height": 149
   },
   "outputs": [],
   "source": [
    "# option 1\n",
    "prompt_template = \"\"\"\n",
    "Can you please simplify this code for a linked list in Python?\n",
    "\n",
    "{question}\n",
    "\n",
    "Explain in detail what you did to modify it, and why.\n",
    "\"\"\""
   ]
  },
  {
   "cell_type": "markdown",
   "id": "f1c075dc-2f21-4ab5-99ed-798c08d20bad",
   "metadata": {},
   "source": [
    "After you try option 1, you can modify it to look like option 2 (in this markdown cell) and see how it changes the completion.\n",
    "```Python\n",
    "# option 2\n",
    "prompt_template = \"\"\"\n",
    "Can you please simplify this code for a linked list in Python? \\n\n",
    "You are an expert in Pythonic code.\n",
    "\n",
    "{question}\n",
    "\n",
    "Please comment each line in detail, \\n\n",
    "and explain in detail what you did to modify it, and why.\n",
    "\"\"\"\n",
    "```"
   ]
  },
  {
   "cell_type": "code",
   "execution_count": 12,
   "id": "4663db7e-3b40-4776-9dc9-87fea5975ff1",
   "metadata": {
    "height": 319
   },
   "outputs": [],
   "source": [
    "question = \"\"\"\n",
    "class Node:\n",
    "  def __init__(self, dataval=None):\n",
    "    self.dataval = dataval\n",
    "    self.nextval = None\n",
    "\n",
    "class SLinkedList:\n",
    "  def __init__(self):\n",
    "    self.headval = None\n",
    "\n",
    "list1 = SLinkedList()\n",
    "list1.headval = Node(\"Mon\")\n",
    "e2 = Node(\"Tue\")\n",
    "e3 = Node(\"Wed\")\n",
    "list1.headval.nextval = e2\n",
    "e2.nextval = e3\n",
    "\n",
    "\"\"\""
   ]
  },
  {
   "cell_type": "code",
   "execution_count": 13,
   "id": "f954dcaf-3dfe-4265-b644-1bcbeead405b",
   "metadata": {
    "height": 81
   },
   "outputs": [
    {
     "name": "stdout",
     "output_type": "stream",
     "text": [
      "```python\n",
      "class Node:\n",
      "  def __init__(self, data):\n",
      "    self.data = data\n",
      "    self.next = None\n",
      "\n",
      "class LinkedList:\n",
      "  def __init__(self):\n",
      "    self.head = None\n",
      "\n",
      "# Example Usage:\n",
      "my_list = LinkedList()\n",
      "my_list.head = Node(\"Mon\")\n",
      "my_list.head.next = Node(\"Tue\")\n",
      "my_list.head.next.next = Node(\"Wed\")\n",
      "```\n",
      "\n",
      "Here's a breakdown of the changes and the reasoning behind them:\n",
      "\n",
      "**1. Renaming Variables for Clarity:**\n",
      "\n",
      "*   `dataval` in the `Node` class was changed to `data`.  This is a more common and descriptive name for the data stored in a node.  It's easier to understand at a glance.\n",
      "*   `nextval` in the `Node` class was changed to `next`.  Again, this is a more standard and concise name for the pointer to the next node in the list.\n",
      "*   `headval` in the `SLinkedList` class was changed to `head`.  This is a more common and concise name for the head of the linked list.\n",
      "*   `SLinkedList` was changed to `LinkedList`.  The \"S\" likely stood for \"Singly,\" but it's often omitted for brevity when it's clear that it's a singly linked list.\n",
      "*   `list1` was changed to `my_list`.  This is a more descriptive name for the linked list.\n",
      "*   `e2` and `e3` were removed and the nodes were created directly in the linked list.\n",
      "\n",
      "**2. Direct Node Creation:**\n",
      "\n",
      "*   Instead of creating `e2` and `e3` as separate variables and then assigning them, the code now directly creates the `Node` objects and links them:\n",
      "\n",
      "    ```python\n",
      "    my_list.head.next = Node(\"Tue\")\n",
      "    my_list.head.next.next = Node(\"Wed\")\n",
      "    ```\n",
      "\n",
      "    This makes the code more concise and easier to read.  It avoids unnecessary intermediate variables.  The original code was functionally correct, but this is a more direct way to achieve the same result.\n",
      "\n",
      "**3. Removed Unnecessary Comments:**\n",
      "\n",
      "*   The original code had no comments, which is fine for very simple code, but adding a few comments to explain the purpose of the classes and the example usage can improve readability.\n",
      "\n",
      "**Why These Changes?**\n",
      "\n",
      "The primary goal of these changes is to improve **readability** and **maintainability**.  Good code should be easy to understand and modify.  By using clear and consistent naming conventions and avoiding unnecessary steps, the code becomes more self-documenting.\n",
      "\n",
      "In summary, the simplified code is functionally equivalent to the original code but is more concise, readable, and easier to understand.  It follows common Python naming conventions and avoids unnecessary intermediate variables.\n",
      "\n"
     ]
    }
   ],
   "source": [
    "completion = generate_text(\n",
    "    prompt = prompt_template.format(question=question)\n",
    ")\n",
    "print(completion.text)"
   ]
  },
  {
   "cell_type": "markdown",
   "id": "2842f412-36f7-461f-a07f-eb95b345174d",
   "metadata": {},
   "source": [
    "### Scenario 3: Write test cases\n",
    "\n",
    "- It may help to specify that you want the LLM to output \"in code\" to encourage it to write unit tests instead of just returning test cases in English."
   ]
  },
  {
   "cell_type": "code",
   "execution_count": 14,
   "id": "cf4c29c6-fe80-4aed-9e86-2daa6d862101",
   "metadata": {
    "height": 132
   },
   "outputs": [],
   "source": [
    "prompt_template = \"\"\"\n",
    "Can you please create test cases in code for this Python code?\n",
    "\n",
    "{question}\n",
    "\n",
    "Explain in detail what these test cases are designed to achieve.\n",
    "\"\"\""
   ]
  },
  {
   "cell_type": "code",
   "execution_count": 15,
   "id": "3259b810-52b4-446b-971b-136df45d0f97",
   "metadata": {
    "height": 387
   },
   "outputs": [],
   "source": [
    "# Note that the code I'm using here was output in the previous\n",
    "# section. Your output code may be different.\n",
    "question = \"\"\"\n",
    "class Node:\n",
    "  def __init__(self, dataval=None):\n",
    "    self.dataval = dataval\n",
    "    self.nextval = None\n",
    "\n",
    "class SLinkedList:\n",
    "  def __init__(self):\n",
    "    self.head = None\n",
    "\n",
    "def create_linked_list(data):\n",
    "  head = Node(data[0])\n",
    "  for i in range(1, len(data)):\n",
    "    node = Node(data[i])\n",
    "    node.nextval = head\n",
    "    head = node\n",
    "  return head\n",
    "\n",
    "list1 = create_linked_list([\"Mon\", \"Tue\", \"Wed\"])\n",
    "\"\"\""
   ]
  },
  {
   "cell_type": "code",
   "execution_count": 16,
   "id": "ab46dc7e-393a-4ec3-a443-39b39437dd05",
   "metadata": {
    "height": 81
   },
   "outputs": [
    {
     "name": "stdout",
     "output_type": "stream",
     "text": [
      "```python\n",
      "import unittest\n",
      "\n",
      "class Node:\n",
      "  def __init__(self, dataval=None):\n",
      "    self.dataval = dataval\n",
      "    self.nextval = None\n",
      "\n",
      "class SLinkedList:\n",
      "  def __init__(self):\n",
      "    self.head = None\n",
      "\n",
      "def create_linked_list(data):\n",
      "  head = Node(data[0])\n",
      "  for i in range(1, len(data)):\n",
      "    node = Node(data[i])\n",
      "    node.nextval = head\n",
      "    head = node\n",
      "  return head\n",
      "\n",
      "\n",
      "class TestCreateLinkedList(unittest.TestCase):\n",
      "\n",
      "    def test_empty_list(self):\n",
      "        \"\"\"Test creating a linked list from an empty list.\"\"\"\n",
      "        head = create_linked_list([])\n",
      "        self.assertIsNone(head, \"Head should be None for an empty list\")\n",
      "\n",
      "    def test_single_element_list(self):\n",
      "        \"\"\"Test creating a linked list from a list with a single element.\"\"\"\n",
      "        head = create_linked_list([1])\n",
      "        self.assertIsNotNone(head, \"Head should not be None\")\n",
      "        self.assertEqual(head.dataval, 1, \"Head data should be 1\")\n",
      "        self.assertIsNone(head.nextval, \"Next should be None\")\n",
      "\n",
      "    def test_multiple_elements_list(self):\n",
      "        \"\"\"Test creating a linked list from a list with multiple elements.\"\"\"\n",
      "        head = create_linked_list([1, 2, 3])\n",
      "        self.assertIsNotNone(head, \"Head should not be None\")\n",
      "        self.assertEqual(head.dataval, 3, \"Head data should be 3\")\n",
      "        self.assertIsNotNone(head.nextval, \"Next should not be None\")\n",
      "        self.assertEqual(head.nextval.dataval, 2, \"Second node data should be 2\")\n",
      "        self.assertIsNotNone(head.nextval.nextval, \"Third node should not be None\")\n",
      "        self.assertEqual(head.nextval.nextval.dataval, 1, \"Third node data should be 1\")\n",
      "        self.assertIsNone(head.nextval.nextval.nextval, \"Fourth node should be None\")\n",
      "\n",
      "    def test_string_data(self):\n",
      "        \"\"\"Test creating a linked list with string data.\"\"\"\n",
      "        head = create_linked_list([\"Mon\", \"Tue\", \"Wed\"])\n",
      "        self.assertEqual(head.dataval, \"Wed\")\n",
      "        self.assertEqual(head.nextval.dataval, \"Tue\")\n",
      "        self.assertEqual(head.nextval.nextval.dataval, \"Mon\")\n",
      "        self.assertIsNone(head.nextval.nextval.nextval)\n",
      "\n",
      "    def test_mixed_data_types(self):\n",
      "        \"\"\"Test creating a linked list with mixed data types.\"\"\"\n",
      "        head = create_linked_list([1, \"hello\", 3.14])\n",
      "        self.assertEqual(head.dataval, 3.14)\n",
      "        self.assertEqual(head.nextval.dataval, \"hello\")\n",
      "        self.assertEqual(head.nextval.nextval.dataval, 1)\n",
      "        self.assertIsNone(head.nextval.nextval.nextval)\n",
      "\n",
      "\n",
      "if __name__ == '__main__':\n",
      "    unittest.main()\n",
      "```\n",
      "\n",
      "**Explanation of the Test Cases:**\n",
      "\n",
      "This code uses the `unittest` framework in Python to create a suite of tests for the `create_linked_list` function.  Each test case is designed to verify a specific aspect of the function's behavior.  Here's a breakdown:\n",
      "\n",
      "1. **`test_empty_list(self)`:**\n",
      "   - **Purpose:**  Checks what happens when you try to create a linked list from an empty list (`[]`).\n",
      "   - **Expected Behavior:**  The function should return `None` because there are no elements to create nodes from.  An empty list should result in an empty linked list (represented by a `None` head).\n",
      "   - **Assertion:** `self.assertIsNone(head, \"Head should be None for an empty list\")` verifies that the returned `head` is indeed `None`.\n",
      "\n",
      "2. **`test_single_element_list(self)`:**\n",
      "   - **Purpose:** Checks the behavior when the input list contains only one element.\n",
      "   - **Expected Behavior:** The function should create a linked list with a single node. The `head` should point to this node, the node's `dataval` should be the element from the list, and the node's `nextval` should be `None` (because it's the last node).\n",
      "   - **Assertions:**\n",
      "     - `self.assertIsNotNone(head, \"Head should not be None\")`:  Ensures that a node was actually created.\n",
      "     - `self.assertEqual(head.dataval, 1, \"Head data should be 1\")`:  Verifies that the node's data is correct.\n",
      "     - `self.assertIsNone(head.nextval, \"Next should be None\")`:  Confirms that there are no further nodes in the list.\n",
      "\n",
      "3. **`test_multiple_elements_list(self)`:**\n",
      "   - **Purpose:**  Tests the core functionality of creating a linked list with multiple elements.  This is the most important test case.\n",
      "   - **Expected Behavior:** The function should create a linked list where the elements are added in reverse order from the input list (due to the way the `create_linked_list` function is implemented).  The `head` should point to the last element of the input list, and each node's `nextval` should point to the previous element.\n",
      "   - **Assertions:**  This test case uses a series of assertions to check the `dataval` and `nextval` of each node in the created linked list, ensuring that the list is constructed correctly.  It checks the first three nodes and verifies that the last node's `nextval` is `None`.\n",
      "\n",
      "4. **`test_string_data(self)`:**\n",
      "   - **Purpose:**  Verifies that the function works correctly when the input list contains strings.\n",
      "   - **Expected Behavior:**  The function should create a linked list with the strings as data in the nodes, maintaining the reverse order.\n",
      "   - **Assertions:** Similar to `test_multiple_elements_list`, this test case checks the `dataval` of each node to ensure the strings are stored correctly.\n",
      "\n",
      "5. **`test_mixed_data_types(self)`:**\n",
      "   - **Purpose:**  Tests the function's ability to handle lists containing different data types (integers, strings, floats).\n",
      "   - **Expected Behavior:** The function should create a linked list where each node can hold a different data type.\n",
      "   - **Assertions:**  The assertions verify that the `dataval` of each node matches the corresponding element in the input list, regardless of its data type.\n",
      "\n",
      "**How the Tests Work:**\n",
      "\n",
      "- **`unittest.TestCase`:**  The `TestCreateLinkedList` class inherits from `unittest.TestCase`, which provides the framework for writing and running tests.\n",
      "- **`self.assert...()` methods:**  The `unittest` framework provides various `assert...()` methods (e.g., `assertEqual`, `assertIsNone`, `assertIsNotNone`) to check conditions and report errors if they are not met.\n",
      "- **`if __name__ == '__main__': unittest.main()`:**  This line ensures that the tests are run when the script is executed directly (not when it's imported as a module).  `unittest.main()` discovers and runs all the test methods in the `TestCreateLinkedList` class.\n",
      "\n",
      "**Why these tests are important:**\n",
      "\n",
      "- **Correctness:** They ensure that the `create_linked_list` function produces the correct linked list structure for various inputs.\n",
      "- **Robustness:** They check how the function handles edge cases like empty lists and lists with different data types.\n",
      "- **Maintainability:**  If you modify the `create_linked_list` function in the future, you can run these tests to quickly verify that your changes haven't introduced any bugs.\n",
      "- **Documentation:**  The test cases serve as a form of documentation, illustrating how the function is intended to be used and what its expected behavior is.\n",
      "\n"
     ]
    }
   ],
   "source": [
    "completion = generate_text(\n",
    "    prompt = prompt_template.format(question=question)\n",
    ")\n",
    "print(completion.text)"
   ]
  },
  {
   "cell_type": "markdown",
   "id": "5b4e34dd-167c-4ce5-b0a6-20b1cf78f53c",
   "metadata": {},
   "source": [
    "### Scenario 4: Make code more efficient\n",
    "- Improve runtime by potentially avoiding inefficient methods (such as ones that use recursion when not needed)."
   ]
  },
  {
   "cell_type": "code",
   "execution_count": 17,
   "id": "da4197f9-c6de-490d-a05e-6b604e0c0c40",
   "metadata": {
    "height": 132
   },
   "outputs": [],
   "source": [
    "prompt_template = \"\"\"\n",
    "Can you please make this code more efficient?\n",
    "\n",
    "{question}\n",
    "\n",
    "Explain in detail what you changed and why.\n",
    "\"\"\""
   ]
  },
  {
   "cell_type": "code",
   "execution_count": 18,
   "id": "f653f4e0-c847-4639-8702-a9b16b161c24",
   "metadata": {
    "height": 489
   },
   "outputs": [],
   "source": [
    "question = \"\"\"\n",
    "# Returns index of x in arr if present, else -1\n",
    "def binary_search(arr, low, high, x):\n",
    "    # Check base case\n",
    "    if high >= low:\n",
    "        mid = (high + low) // 2\n",
    "        if arr[mid] == x:\n",
    "            return mid\n",
    "        elif arr[mid] > x:\n",
    "            return binary_search(arr, low, mid - 1, x)\n",
    "        else:\n",
    "            return binary_search(arr, mid + 1, high, x)\n",
    "    else:\n",
    "        return -1\n",
    "\n",
    "# Test array\n",
    "arr = [ 2, 3, 4, 10, 40 ]\n",
    "x = 10\n",
    "\n",
    "# Function call\n",
    "result = binary_search(arr, 0, len(arr)-1, x)\n",
    "\n",
    "if result != -1:\n",
    "    print(\"Element is present at index\", str(result))\n",
    "else:\n",
    "    print(\"Element is not present in array\")\n",
    "\n",
    "\"\"\""
   ]
  },
  {
   "cell_type": "code",
   "execution_count": 19,
   "id": "c0150e46-ca82-420d-82ec-54eca96bd3d2",
   "metadata": {
    "height": 81
   },
   "outputs": [
    {
     "name": "stdout",
     "output_type": "stream",
     "text": [
      "```python\n",
      "# Returns index of x in arr if present, else -1\n",
      "def binary_search(arr, low, high, x):\n",
      "    \"\"\"\n",
      "    Performs a binary search on a sorted array.\n",
      "\n",
      "    Args:\n",
      "        arr: The sorted array to search.\n",
      "        low: The starting index of the search range.\n",
      "        high: The ending index of the search range.\n",
      "        x: The element to search for.\n",
      "\n",
      "    Returns:\n",
      "        The index of x in arr if present, else -1.\n",
      "    \"\"\"\n",
      "    while low <= high:\n",
      "        mid = low + (high - low) // 2  # Prevent potential overflow\n",
      "        if arr[mid] == x:\n",
      "            return mid\n",
      "        elif arr[mid] < x:\n",
      "            low = mid + 1\n",
      "        else:\n",
      "            high = mid - 1\n",
      "    return -1\n",
      "\n",
      "# Test array\n",
      "arr = [ 2, 3, 4, 10, 40 ]\n",
      "x = 10\n",
      "\n",
      "# Function call\n",
      "result = binary_search(arr, 0, len(arr)-1, x)\n",
      "\n",
      "if result != -1:\n",
      "    print(\"Element is present at index\", str(result))\n",
      "else:\n",
      "    print(\"Element is not present in array\")\n",
      "```\n",
      "\n",
      "Here's a breakdown of the changes and the reasoning behind them:\n",
      "\n",
      "**1. Iterative Approach Instead of Recursion:**\n",
      "\n",
      "*   **Original Code:** The original code used a recursive implementation of binary search.  Recursion involves function calls, which have overhead associated with them (stack management, function call setup/teardown).  For large arrays, this overhead can become significant.\n",
      "*   **Modified Code:** The improved code uses an iterative (loop-based) approach.  Iterative solutions generally have better performance than recursive solutions for problems like binary search because they avoid the function call overhead.\n",
      "\n",
      "**Why Iteration is More Efficient:**\n",
      "\n",
      "*   **Reduced Overhead:** Iteration avoids the overhead of function calls, making it faster, especially for large datasets.\n",
      "*   **Stack Overflow Prevention:**  Deep recursion can lead to stack overflow errors if the search space is very large. Iteration doesn't have this limitation.\n",
      "\n",
      "**2. Overflow Prevention in Midpoint Calculation:**\n",
      "\n",
      "*   **Original Code:** `mid = (high + low) // 2`\n",
      "*   **Modified Code:** `mid = low + (high - low) // 2`\n",
      "\n",
      "**Why Overflow Prevention is Important:**\n",
      "\n",
      "*   In the original code, if `high` and `low` are very large numbers, their sum `(high + low)` could potentially exceed the maximum value that an integer can hold, leading to an integer overflow. This overflow could result in a negative value or a value that wraps around, causing incorrect results.\n",
      "*   The modified code avoids this by calculating the midpoint as `low + (high - low) // 2`. This is mathematically equivalent but prevents the potential overflow because it doesn't directly sum `high` and `low`.  It calculates the difference between `high` and `low`, which is guaranteed to be smaller than either `high` or `low`, and then adds that difference to `low`.\n",
      "\n",
      "**In summary:**\n",
      "\n",
      "The iterative approach eliminates function call overhead, and the modified midpoint calculation prevents potential integer overflows, making the code more efficient and robust, especially when dealing with large arrays and large index values.  The iterative version is generally preferred for binary search in most practical scenarios.\n",
      "\n"
     ]
    }
   ],
   "source": [
    "completion = generate_text(\n",
    "    prompt = prompt_template.format(question=question)\n",
    ")\n",
    "print(completion.text)"
   ]
  },
  {
   "cell_type": "markdown",
   "id": "44a24541-c37b-48a0-bc71-a8323f0b9e2d",
   "metadata": {},
   "source": [
    "#### Try out the LLM-generated code\n",
    "- If it uses `bisect`, you may first need to `import bisect`\n",
    "- Remember to check what the generated code is actually doing.  For instance, the code may work because it is calling a predefined function (such as `bisect`), even though the rest of the code is technically broken."
   ]
  },
  {
   "cell_type": "code",
   "execution_count": 24,
   "id": "ecde2b81-6e00-4977-b888-39e2f65a8d79",
   "metadata": {
    "height": 149
   },
   "outputs": [
    {
     "name": "stdout",
     "output_type": "stream",
     "text": [
      "Element is present at index 3\n"
     ]
    }
   ],
   "source": [
    "# Paste the LLM-generated code to inspect and debug it\n",
    "\n",
    "\n",
    "def binary_search(arr, low, high, x):\n",
    "    \"\"\"\n",
    "    Performs a binary search on a sorted array.\n",
    "\n",
    "    Args:\n",
    "        arr: The sorted array to search.\n",
    "        low: The starting index of the search range.\n",
    "        high: The ending index of the search range.\n",
    "        x: The element to search for.\n",
    "\n",
    "    Returns:\n",
    "        The index of x in arr if present, else -1.\n",
    "    \"\"\"\n",
    "    while low <= high:\n",
    "        mid = low + (high - low) // 2  # Prevent potential overflow\n",
    "        if arr[mid] == x:\n",
    "            return mid\n",
    "        elif arr[mid] < x:\n",
    "            low = mid + 1\n",
    "        else:\n",
    "            high = mid - 1\n",
    "    return -1\n",
    "\n",
    "# Test array\n",
    "arr = [ 2, 3, 4, 10, 40 ]\n",
    "x = 10\n",
    "\n",
    "# Function call\n",
    "result = binary_search(arr, 0, len(arr)-1, x)\n",
    "\n",
    "if result != -1:\n",
    "    print(\"Element is present at index\", str(result))\n",
    "else:\n",
    "    print(\"Element is not present in array\")\n"
   ]
  },
  {
   "cell_type": "markdown",
   "id": "7326a0cc-338b-4c83-9b57-3a84094f800a",
   "metadata": {},
   "source": [
    "### Scenario 5: Debug your code"
   ]
  },
  {
   "cell_type": "code",
   "execution_count": 21,
   "id": "a10179f2-e09e-4c72-9991-a6f5d8418fc4",
   "metadata": {
    "height": 132
   },
   "outputs": [],
   "source": [
    "prompt_template = \"\"\"\n",
    "Can you please help me to debug this code?\n",
    "\n",
    "{question}\n",
    "\n",
    "Explain in detail what you found and why it was a bug.\n",
    "\"\"\""
   ]
  },
  {
   "cell_type": "code",
   "execution_count": 22,
   "id": "ed8384ba-3641-407e-add6-52efa2a43b48",
   "metadata": {
    "height": 625
   },
   "outputs": [],
   "source": [
    "# I deliberately introduced a bug into this code! Let's see if the LLM can find it.\n",
    "# Note -- the model can't see this comment -- but the bug is in the\n",
    "# print function. There's a circumstance where nodes can be null, and trying\n",
    "# to print them would give a null error.\n",
    "question = \"\"\"\n",
    "class Node:\n",
    "   def __init__(self, data):\n",
    "      self.data = data\n",
    "      self.next = None\n",
    "      self.prev = None\n",
    "\n",
    "class doubly_linked_list:\n",
    "   def __init__(self):\n",
    "      self.head = None\n",
    "\n",
    "# Adding data elements\n",
    "   def push(self, NewVal):\n",
    "      NewNode = Node(NewVal)\n",
    "      NewNode.next = self.head\n",
    "      if self.head is not None:\n",
    "         self.head.prev = NewNode\n",
    "      self.head = NewNode\n",
    "\n",
    "# Print the Doubly Linked list in order\n",
    "   def listprint(self, node):\n",
    "       print(node.data),\n",
    "       last = node\n",
    "       node = node.next\n",
    "\n",
    "dllist = doubly_linked_list()\n",
    "dllist.push(12)\n",
    "dllist.push(8)\n",
    "dllist.push(62)\n",
    "dllist.listprint(dllist.head)\n",
    "\n",
    "\"\"\""
   ]
  },
  {
   "cell_type": "markdown",
   "id": "2e4874fd-722a-4b3d-8ca1-fab36c5e84f4",
   "metadata": {},
   "source": [
    "Notice in this case that we are using the default temperature of `0.7` to generate the example that you're seeing in the lecture video.  \n",
    "- Since a temperature > 0 encourages more randomness in the LLM output, you may want to run this code a couple times to see what it outputs."
   ]
  },
  {
   "cell_type": "code",
   "execution_count": 23,
   "id": "360527f9-495e-41f4-a280-579f3643a36b",
   "metadata": {
    "height": 98
   },
   "outputs": [
    {
     "name": "stdout",
     "output_type": "stream",
     "text": [
      "Okay, let's analyze the provided code and identify the bug.\n",
      "\n",
      "**Code:**\n",
      "\n",
      "```python\n",
      "class Node:\n",
      "   def __init__(self, data):\n",
      "      self.data = data\n",
      "      self.next = None\n",
      "      self.prev = None\n",
      "\n",
      "class doubly_linked_list:\n",
      "   def __init__(self):\n",
      "      self.head = None\n",
      "\n",
      "# Adding data elements\n",
      "   def push(self, NewVal):\n",
      "      NewNode = Node(NewVal)\n",
      "      NewNode.next = self.head\n",
      "      if self.head is not None:\n",
      "         self.head.prev = NewNode\n",
      "      self.head = NewNode\n",
      "\n",
      "# Print the Doubly Linked list in order\n",
      "   def listprint(self, node):\n",
      "       print(node.data),  # Python 2 syntax.  In Python 3, this will print on the same line.\n",
      "       last = node\n",
      "       node = node.next\n",
      "\n",
      "dllist = doubly_linked_list()\n",
      "dllist.push(12)\n",
      "dllist.push(8)\n",
      "dllist.push(62)\n",
      "dllist.listprint(dllist.head)\n",
      "```\n",
      "\n",
      "**The Bug and Explanation:**\n",
      "\n",
      "The `listprint` method has a significant flaw:  It only prints the first node of the list and then stops.  It's missing a loop to traverse the rest of the linked list.\n",
      "\n",
      "**Why this is a bug:**\n",
      "\n",
      "The purpose of `listprint` should be to display the data of *all* nodes in the doubly linked list, starting from the given node (usually the head).  The current implementation only prints the data of the initial node and then moves to the next node *once* without printing. After the first print and increment, the function exits.\n",
      "\n",
      "**Corrected Code:**\n",
      "\n",
      "Here's the corrected `listprint` method:\n",
      "\n",
      "```python\n",
      "   def listprint(self, node):\n",
      "       while (node is not None):  # Loop until we reach the end of the list\n",
      "           print(node.data),\n",
      "           last = node\n",
      "           node = node.next\n",
      "```\n",
      "\n",
      "**Explanation of the Correction:**\n",
      "\n",
      "1.  **`while (node is not None):`**:  This `while` loop is the key. It ensures that the printing process continues as long as the `node` variable points to a valid node (i.e., it's not `None`, which signifies the end of the list).\n",
      "\n",
      "2.  **`print(node.data),`**:  Prints the data of the current node.  The `,` at the end is to suppress the newline in Python 2. In Python 3, you'd use `print(node.data, end=\" \")` for the same effect.\n",
      "\n",
      "3.  **`last = node`**: This line saves the current node in the `last` variable. While not strictly necessary for printing in order, it's useful if you later want to traverse the list in reverse (from the tail).\n",
      "\n",
      "4.  **`node = node.next`**:  Moves the `node` variable to the next node in the list. This is how we advance through the linked list.\n",
      "\n",
      "**Complete Corrected Code:**\n",
      "\n",
      "```python\n",
      "class Node:\n",
      "   def __init__(self, data):\n",
      "      self.data = data\n",
      "      self.next = None\n",
      "      self.prev = None\n",
      "\n",
      "class doubly_linked_list:\n",
      "   def __init__(self):\n",
      "      self.head = None\n",
      "\n",
      "# Adding data elements\n",
      "   def push(self, NewVal):\n",
      "      NewNode = Node(NewVal)\n",
      "      NewNode.next = self.head\n",
      "      if self.head is not None:\n",
      "         self.head.prev = NewNode\n",
      "      self.head = NewNode\n",
      "\n",
      "# Print the Doubly Linked list in order\n",
      "   def listprint(self, node):\n",
      "       while (node is not None):  # Loop until we reach the end of the list\n",
      "           print(node.data),\n",
      "           last = node\n",
      "           node = node.next\n",
      "\n",
      "dllist = doubly_linked_list()\n",
      "dllist.push(12)\n",
      "dllist.push(8)\n",
      "dllist.push(62)\n",
      "dllist.listprint(dllist.head)\n",
      "```\n",
      "\n",
      "**Output of Corrected Code (Python 2):**\n",
      "\n",
      "```\n",
      "62 8 12\n",
      "```\n",
      "\n",
      "**Output of Corrected Code (Python 3):**\n",
      "\n",
      "```\n",
      "62 8 12\n",
      "```\n",
      "\n",
      "**Key Improvements:**\n",
      "\n",
      "*   **Looping:** The addition of the `while` loop allows the `listprint` method to traverse the entire linked list, printing the data of each node.\n",
      "*   **Clarity:** The code is now more readable and accurately reflects the intended functionality of printing the entire list.\n",
      "\n",
      "\n"
     ]
    }
   ],
   "source": [
    "completion = generate_text(\n",
    "    prompt = prompt_template.format(question=question),\n",
    "    temperature = 0.7\n",
    ")\n",
    "print(completion.text)"
   ]
  },
  {
   "cell_type": "markdown",
   "id": "82c9d0dc-c216-4ea5-8ccd-1f06094b9fad",
   "metadata": {},
   "source": [
    "#### Reminder to check the code\n",
    "You can use an  LLM to give you insights and check for blind spots, but remember to check that the generated code is doing what you want it to do."
   ]
  },
  {
   "cell_type": "code",
   "execution_count": 25,
   "id": "80634c53-72b8-43ee-8ac0-369fce8c0318",
   "metadata": {
    "height": 212
   },
   "outputs": [
    {
     "name": "stdout",
     "output_type": "stream",
     "text": [
      "62\n"
     ]
    }
   ],
   "source": [
    "class Node:\n",
    "   def __init__(self, data):\n",
    "      self.data = data\n",
    "      self.next = None\n",
    "      self.prev = None\n",
    "\n",
    "class doubly_linked_list:\n",
    "   def __init__(self):\n",
    "      self.head = None\n",
    "\n",
    "# Adding data elements\n",
    "   def push(self, NewVal):\n",
    "      NewNode = Node(NewVal)\n",
    "      NewNode.next = self.head\n",
    "      if self.head is not None:\n",
    "         self.head.prev = NewNode\n",
    "      self.head = NewNode\n",
    "\n",
    "# Print the Doubly Linked list in order\n",
    "   def listprint(self, node):\n",
    "       print(node.data),  # Python 2 syntax.  In Python 3, this will print on the same line.\n",
    "       last = node\n",
    "       node = node.next\n",
    "\n",
    "dllist = doubly_linked_list()\n",
    "dllist.push(12)\n",
    "dllist.push(8)\n",
    "dllist.push(62)\n",
    "dllist.listprint(dllist.head)"
   ]
  }
 ],
 "metadata": {
  "kernelspec": {
   "display_name": "Python 3 (ipykernel)",
   "language": "python",
   "name": "python3"
  },
  "language_info": {
   "codemirror_mode": {
    "name": "ipython",
    "version": 3
   },
   "file_extension": ".py",
   "mimetype": "text/x-python",
   "name": "python",
   "nbconvert_exporter": "python",
   "pygments_lexer": "ipython3",
   "version": "3.10.14"
  }
 },
 "nbformat": 4,
 "nbformat_minor": 5
}
